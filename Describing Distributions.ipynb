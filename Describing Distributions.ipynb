{
 "cells": [
  {
   "cell_type": "markdown",
   "id": "e1a9a6f2",
   "metadata": {},
   "source": [
    "# Describing Distributions\n",
    "\n",
    "The features to analyze: \n",
    "- VitD_levels\n",
    "- Doc_visits\n",
    "- TotalCharge\n",
    "\n",
    "For each feature listed:\n",
    "\n",
    "- Plot a histogram with a kde (kernel density estimate)\n",
    "- Add a line for the mean (red)\n",
    "- Add a line for the median (green)\n",
    "- Add a line for for +1 std from the mean (black)\n",
    "- Add a line for the - 1 std from the mean (black)\n",
    "- Highlight the range between +1 and =1 std (yellow)\n",
    "\n",
    "Answer the following questions:\n",
    "- Is it Discrete or Continuous?\n",
    "- Does it have a skew? If so, which direction (+/-)\n",
    "- What type of kurtosis does it display? (Mesokurtic, Leptokurtic, Platykurtic)"
   ]
  },
  {
   "cell_type": "code",
   "execution_count": 2,
   "id": "a24253a8",
   "metadata": {},
   "outputs": [],
   "source": [
    "#import libraries\n",
    "\n",
    "import pandas as pd\n",
    "import numpy as np\n",
    "import matplotlib.pyplot as plt\n",
    "import seaborn as sns\n",
    "from sklearn.preprocessing import StandardScaler\n",
    "from scipy import stats"
   ]
  },
  {
   "cell_type": "code",
   "execution_count": 4,
   "id": "1d65dfdd",
   "metadata": {},
   "outputs": [
    {
     "data": {
      "text/html": [
       "<div>\n",
       "<style scoped>\n",
       "    .dataframe tbody tr th:only-of-type {\n",
       "        vertical-align: middle;\n",
       "    }\n",
       "\n",
       "    .dataframe tbody tr th {\n",
       "        vertical-align: top;\n",
       "    }\n",
       "\n",
       "    .dataframe thead th {\n",
       "        text-align: right;\n",
       "    }\n",
       "</style>\n",
       "<table border=\"1\" class=\"dataframe\">\n",
       "  <thead>\n",
       "    <tr style=\"text-align: right;\">\n",
       "      <th></th>\n",
       "      <th>State</th>\n",
       "      <th>Lat</th>\n",
       "      <th>Lng</th>\n",
       "      <th>Area</th>\n",
       "      <th>Children</th>\n",
       "      <th>Age</th>\n",
       "      <th>Income</th>\n",
       "      <th>Marital</th>\n",
       "      <th>Gender</th>\n",
       "      <th>ReAdmis</th>\n",
       "      <th>...</th>\n",
       "      <th>Hyperlipidemia</th>\n",
       "      <th>BackPain</th>\n",
       "      <th>Anxiety</th>\n",
       "      <th>Allergic_rhinitis</th>\n",
       "      <th>Reflux_esophagitis</th>\n",
       "      <th>Asthma</th>\n",
       "      <th>Services</th>\n",
       "      <th>Initial_days</th>\n",
       "      <th>TotalCharge</th>\n",
       "      <th>Additional_charges</th>\n",
       "    </tr>\n",
       "  </thead>\n",
       "  <tbody>\n",
       "    <tr>\n",
       "      <th>0</th>\n",
       "      <td>AL</td>\n",
       "      <td>34.34960</td>\n",
       "      <td>-86.72508</td>\n",
       "      <td>Suburban</td>\n",
       "      <td>1.0</td>\n",
       "      <td>53</td>\n",
       "      <td>86575.93</td>\n",
       "      <td>Divorced</td>\n",
       "      <td>Male</td>\n",
       "      <td>0</td>\n",
       "      <td>...</td>\n",
       "      <td>0.0</td>\n",
       "      <td>1.0</td>\n",
       "      <td>1.0</td>\n",
       "      <td>1.0</td>\n",
       "      <td>0</td>\n",
       "      <td>1</td>\n",
       "      <td>Blood Work</td>\n",
       "      <td>10.585770</td>\n",
       "      <td>3726.702860</td>\n",
       "      <td>17939.403420</td>\n",
       "    </tr>\n",
       "    <tr>\n",
       "      <th>1</th>\n",
       "      <td>FL</td>\n",
       "      <td>30.84513</td>\n",
       "      <td>-85.22907</td>\n",
       "      <td>Urban</td>\n",
       "      <td>3.0</td>\n",
       "      <td>51</td>\n",
       "      <td>46805.99</td>\n",
       "      <td>Married</td>\n",
       "      <td>Female</td>\n",
       "      <td>0</td>\n",
       "      <td>...</td>\n",
       "      <td>0.0</td>\n",
       "      <td>0.0</td>\n",
       "      <td>0.0</td>\n",
       "      <td>0.0</td>\n",
       "      <td>1</td>\n",
       "      <td>0</td>\n",
       "      <td>Intravenous</td>\n",
       "      <td>15.129562</td>\n",
       "      <td>4193.190458</td>\n",
       "      <td>17612.998120</td>\n",
       "    </tr>\n",
       "    <tr>\n",
       "      <th>2</th>\n",
       "      <td>SD</td>\n",
       "      <td>43.54321</td>\n",
       "      <td>-96.63772</td>\n",
       "      <td>Suburban</td>\n",
       "      <td>3.0</td>\n",
       "      <td>53</td>\n",
       "      <td>14370.14</td>\n",
       "      <td>Widowed</td>\n",
       "      <td>Female</td>\n",
       "      <td>0</td>\n",
       "      <td>...</td>\n",
       "      <td>0.0</td>\n",
       "      <td>0.0</td>\n",
       "      <td>0.0</td>\n",
       "      <td>0.0</td>\n",
       "      <td>0</td>\n",
       "      <td>0</td>\n",
       "      <td>Blood Work</td>\n",
       "      <td>4.772177</td>\n",
       "      <td>2434.234222</td>\n",
       "      <td>17505.192460</td>\n",
       "    </tr>\n",
       "    <tr>\n",
       "      <th>3</th>\n",
       "      <td>MN</td>\n",
       "      <td>43.89744</td>\n",
       "      <td>-93.51479</td>\n",
       "      <td>Suburban</td>\n",
       "      <td>0.0</td>\n",
       "      <td>78</td>\n",
       "      <td>39741.49</td>\n",
       "      <td>Married</td>\n",
       "      <td>Male</td>\n",
       "      <td>0</td>\n",
       "      <td>...</td>\n",
       "      <td>0.0</td>\n",
       "      <td>0.0</td>\n",
       "      <td>0.0</td>\n",
       "      <td>0.0</td>\n",
       "      <td>1</td>\n",
       "      <td>1</td>\n",
       "      <td>Blood Work</td>\n",
       "      <td>1.714879</td>\n",
       "      <td>2127.830423</td>\n",
       "      <td>12993.437350</td>\n",
       "    </tr>\n",
       "    <tr>\n",
       "      <th>4</th>\n",
       "      <td>VA</td>\n",
       "      <td>37.59894</td>\n",
       "      <td>-76.88958</td>\n",
       "      <td>Rural</td>\n",
       "      <td>1.0</td>\n",
       "      <td>22</td>\n",
       "      <td>1209.56</td>\n",
       "      <td>Widowed</td>\n",
       "      <td>Female</td>\n",
       "      <td>0</td>\n",
       "      <td>...</td>\n",
       "      <td>1.0</td>\n",
       "      <td>0.0</td>\n",
       "      <td>0.0</td>\n",
       "      <td>1.0</td>\n",
       "      <td>0</td>\n",
       "      <td>0</td>\n",
       "      <td>CT Scan</td>\n",
       "      <td>1.254807</td>\n",
       "      <td>2113.073274</td>\n",
       "      <td>3716.525786</td>\n",
       "    </tr>\n",
       "  </tbody>\n",
       "</table>\n",
       "<p>5 rows × 32 columns</p>\n",
       "</div>"
      ],
      "text/plain": [
       "  State       Lat       Lng      Area  Children  Age    Income   Marital  \\\n",
       "0    AL  34.34960 -86.72508  Suburban       1.0   53  86575.93  Divorced   \n",
       "1    FL  30.84513 -85.22907     Urban       3.0   51  46805.99   Married   \n",
       "2    SD  43.54321 -96.63772  Suburban       3.0   53  14370.14   Widowed   \n",
       "3    MN  43.89744 -93.51479  Suburban       0.0   78  39741.49   Married   \n",
       "4    VA  37.59894 -76.88958     Rural       1.0   22   1209.56   Widowed   \n",
       "\n",
       "   Gender  ReAdmis  ...  Hyperlipidemia  BackPain  Anxiety  Allergic_rhinitis  \\\n",
       "0    Male        0  ...             0.0       1.0      1.0                1.0   \n",
       "1  Female        0  ...             0.0       0.0      0.0                0.0   \n",
       "2  Female        0  ...             0.0       0.0      0.0                0.0   \n",
       "3    Male        0  ...             0.0       0.0      0.0                0.0   \n",
       "4  Female        0  ...             1.0       0.0      0.0                1.0   \n",
       "\n",
       "   Reflux_esophagitis Asthma     Services  Initial_days  TotalCharge  \\\n",
       "0                   0      1   Blood Work     10.585770  3726.702860   \n",
       "1                   1      0  Intravenous     15.129562  4193.190458   \n",
       "2                   0      0   Blood Work      4.772177  2434.234222   \n",
       "3                   1      1   Blood Work      1.714879  2127.830423   \n",
       "4                   0      0      CT Scan      1.254807  2113.073274   \n",
       "\n",
       "   Additional_charges  \n",
       "0        17939.403420  \n",
       "1        17612.998120  \n",
       "2        17505.192460  \n",
       "3        12993.437350  \n",
       "4         3716.525786  \n",
       "\n",
       "[5 rows x 32 columns]"
      ]
     },
     "execution_count": 4,
     "metadata": {},
     "output_type": "execute_result"
    }
   ],
   "source": [
    "# import Data\n",
    "\n",
    "file_source = \"https://docs.google.com/spreadsheets/d/1APV3pXiAszS_0mSgkiEt9IUNH-QmyX7KwxSAwuADl6Y/gviz/tq?tqx=out:csv&sheet=medical_data\"\n",
    "df = pd.read_csv(file_source)\n",
    "df.head()"
   ]
  },
  {
   "cell_type": "code",
   "execution_count": 5,
   "id": "efaaa370",
   "metadata": {},
   "outputs": [
    {
     "name": "stdout",
     "output_type": "stream",
     "text": [
      "<class 'pandas.core.frame.DataFrame'>\n",
      "RangeIndex: 1000 entries, 0 to 999\n",
      "Data columns (total 32 columns):\n",
      " #   Column              Non-Null Count  Dtype  \n",
      "---  ------              --------------  -----  \n",
      " 0   State               995 non-null    object \n",
      " 1   Lat                 1000 non-null   float64\n",
      " 2   Lng                 1000 non-null   float64\n",
      " 3   Area                995 non-null    object \n",
      " 4   Children            993 non-null    float64\n",
      " 5   Age                 1000 non-null   int64  \n",
      " 6   Income              1000 non-null   float64\n",
      " 7   Marital             995 non-null    object \n",
      " 8   Gender              995 non-null    object \n",
      " 9   ReAdmis             1000 non-null   int64  \n",
      " 10  VitD_levels         1000 non-null   float64\n",
      " 11  Doc_visits          1000 non-null   int64  \n",
      " 12  Full_meals_eaten    1000 non-null   int64  \n",
      " 13  vitD_supp           1000 non-null   int64  \n",
      " 14  Soft_drink          1000 non-null   int64  \n",
      " 15  Initial_admin       995 non-null    object \n",
      " 16  HighBlood           1000 non-null   int64  \n",
      " 17  Stroke              1000 non-null   int64  \n",
      " 18  Complication_risk   995 non-null    object \n",
      " 19  Overweight          1000 non-null   int64  \n",
      " 20  Arthritis           994 non-null    float64\n",
      " 21  Diabetes            994 non-null    float64\n",
      " 22  Hyperlipidemia      998 non-null    float64\n",
      " 23  BackPain            992 non-null    float64\n",
      " 24  Anxiety             998 non-null    float64\n",
      " 25  Allergic_rhinitis   994 non-null    float64\n",
      " 26  Reflux_esophagitis  1000 non-null   int64  \n",
      " 27  Asthma              1000 non-null   int64  \n",
      " 28  Services            995 non-null    object \n",
      " 29  Initial_days        1000 non-null   float64\n",
      " 30  TotalCharge         1000 non-null   float64\n",
      " 31  Additional_charges  1000 non-null   float64\n",
      "dtypes: float64(14), int64(11), object(7)\n",
      "memory usage: 250.1+ KB\n"
     ]
    }
   ],
   "source": [
    "#inspect data\n",
    "\n",
    "df.info()"
   ]
  },
  {
   "cell_type": "markdown",
   "id": "0b5147ac",
   "metadata": {},
   "source": [
    "## Analysis"
   ]
  },
  {
   "cell_type": "code",
   "execution_count": 6,
   "id": "8eba2500",
   "metadata": {},
   "outputs": [],
   "source": [
    "# Create a histplot function\n",
    "\n",
    "def histplot(column_name, discrete=1):\n",
    "    col = column_name\n",
    "    feature = df[col]\n",
    "    mean = feature.mean()\n",
    "    median = feature.median()\n",
    "    std = feature.std()\n",
    "    plus_one_std = mean + std\n",
    "    minus_one_std = mean - std\n",
    "    fig,ax = plt.subplots(figsize=(8,4))\n",
    "    if discrete == 0:\n",
    "        sns.histplot(feature ,ax=ax, discrete=False, stat='probability', kde = True)\n",
    "    else:    \n",
    "        sns.histplot(feature ,ax=ax, discrete=True, stat='density', kde = True)\n",
    "    ax.axvline(mean, color = 'red',label=f'Mean = {mean:,.2f}')\n",
    "    ax.axvline(median, ls='--', color = 'green', label = f'Median = {median:,.2f}')\n",
    "    ax.axvline(plus_one_std, color = 'black',label=f'+1 std = {plus_one_std:,.2f}')\n",
    "    ax.axvline(minus_one_std, color = 'black', label = f'-1 std = {minus_one_std:,.2f}')\n",
    "    ax.axvspan(plus_one_std, minus_one_std, color = 'yellow', zorder = 0)\n",
    "    ax.set_title(f'{col}')\n",
    "    ax.legend();\n"
   ]
  },
  {
   "cell_type": "code",
   "execution_count": 7,
   "id": "9235638a",
   "metadata": {},
   "outputs": [],
   "source": [
    "def skew_function(column_name):\n",
    "    feature = df[column_name]\n",
    "    mean = feature.mean()\n",
    "    median = feature.median()\n",
    "    if median < mean:\n",
    "        print('This feature is positively skewed.')\n",
    "    else:\n",
    "        print('This feature is negatively skewed.')"
   ]
  },
  {
   "cell_type": "code",
   "execution_count": 8,
   "id": "4ba27c75",
   "metadata": {},
   "outputs": [],
   "source": [
    "# Create a function to determine kurtosis\n",
    "\n",
    "def kurtosis_function(column_name):\n",
    "    kurt = stats.kurtosis(df[column_name], fisher = False)\n",
    "    if kurt > 3:\n",
    "        print(f'A kurtosis value of {kurt} indicates that it is Leptokurtic.')\n",
    "        if kurt < 3.5:\n",
    "             print(f'Though we could say it is Mesokurtic, as the value is close to 3.')       \n",
    "    elif kurt < 3:\n",
    "        print(f'A kurtosis value of {kurt} indicates that it is Platykurtic.')\n",
    "        if kurt > 2.5:\n",
    "             print(f'Though we could say it is Mesokurtic, as the value is close to 3.')       \n",
    "    else:\n",
    "        print(f'A kurtosis value of {kurt} indicates that it perfectly Mesokurtic.') \n"
   ]
  },
  {
   "cell_type": "markdown",
   "id": "87904c4c",
   "metadata": {},
   "source": [
    "## Visuals"
   ]
  },
  {
   "cell_type": "markdown",
   "id": "6843d162",
   "metadata": {},
   "source": [
    "### VitD_levels"
   ]
  },
  {
   "cell_type": "code",
   "execution_count": 9,
   "id": "45e69916",
   "metadata": {},
   "outputs": [
    {
     "data": {
      "image/png": "[encoded data removed]",
      "text/plain": [
       "<Figure size 576x288 with 1 Axes>"
      ]
     },
     "metadata": {
      "needs_background": "light"
     },
     "output_type": "display_data"
    }
   ],
   "source": [
    "histplot('VitD_levels', 0)"
   ]
  },
  {
   "cell_type": "code",
   "execution_count": 10,
   "id": "e466b3b4",
   "metadata": {},
   "outputs": [
    {
     "name": "stdout",
     "output_type": "stream",
     "text": [
      "This feature is negatively skewed.\n"
     ]
    }
   ],
   "source": [
    "skew_function('VitD_levels')"
   ]
  },
  {
   "cell_type": "code",
   "execution_count": 11,
   "id": "a1bb5dd1",
   "metadata": {},
   "outputs": [
    {
     "name": "stdout",
     "output_type": "stream",
     "text": [
      "A kurtosis value of 3.013147515833447 indicates that it is Leptokurtic.\n",
      "Though we could say it is Mesokurtic, as the value is close to 3.\n"
     ]
    }
   ],
   "source": [
    "kurtosis_function('VitD_levels')"
   ]
  },
  {
   "cell_type": "markdown",
   "id": "b7caed01",
   "metadata": {},
   "source": [
    "Continuous"
   ]
  },
  {
   "cell_type": "markdown",
   "id": "9205df83",
   "metadata": {},
   "source": [
    "### Doc_Visits"
   ]
  },
  {
   "cell_type": "code",
   "execution_count": 12,
   "id": "254dfebd",
   "metadata": {},
   "outputs": [
    {
     "data": {
      "image/png": "[encoded data removed]",
      "text/plain": [
       "<Figure size 576x288 with 1 Axes>"
      ]
     },
     "metadata": {
      "needs_background": "light"
     },
     "output_type": "display_data"
    }
   ],
   "source": [
    "histplot('Doc_visits', 1)"
   ]
  },
  {
   "cell_type": "code",
   "execution_count": 13,
   "id": "b797a9aa",
   "metadata": {},
   "outputs": [
    {
     "name": "stdout",
     "output_type": "stream",
     "text": [
      "This feature is negatively skewed.\n"
     ]
    }
   ],
   "source": [
    "skew_function('Doc_visits')"
   ]
  },
  {
   "cell_type": "code",
   "execution_count": 15,
   "id": "b4c88555",
   "metadata": {},
   "outputs": [
    {
     "name": "stdout",
     "output_type": "stream",
     "text": [
      "A kurtosis value of 2.9919958083381206 indicates that it is Platykurtic.\n",
      "Though we could say it is Mesokurtic, as the value is close to 3.\n"
     ]
    }
   ],
   "source": [
    "kurtosis_function('Doc_visits')"
   ]
  },
  {
   "cell_type": "markdown",
   "id": "e2353719",
   "metadata": {},
   "source": [
    "Discrete"
   ]
  },
  {
   "cell_type": "markdown",
   "id": "0ce8c7a9",
   "metadata": {},
   "source": [
    "### Total Charge"
   ]
  },
  {
   "cell_type": "code",
   "execution_count": 16,
   "id": "808543d8",
   "metadata": {},
   "outputs": [
    {
     "data": {
      "image/png": "[encoded data removed]",
      "text/plain": [
       "<Figure size 576x288 with 1 Axes>"
      ]
     },
     "metadata": {
      "needs_background": "light"
     },
     "output_type": "display_data"
    }
   ],
   "source": [
    "histplot('TotalCharge', 0)"
   ]
  },
  {
   "cell_type": "code",
   "execution_count": 17,
   "id": "5f088148",
   "metadata": {},
   "outputs": [
    {
     "name": "stdout",
     "output_type": "stream",
     "text": [
      "This feature is positively skewed.\n"
     ]
    }
   ],
   "source": [
    "skew_function('TotalCharge')"
   ]
  },
  {
   "cell_type": "code",
   "execution_count": 18,
   "id": "6016a91f",
   "metadata": {},
   "outputs": [
    {
     "name": "stdout",
     "output_type": "stream",
     "text": [
      "A kurtosis value of 3.2650077463439384 indicates that it is Leptokurtic.\n",
      "Though we could say it is Mesokurtic, as the value is close to 3.\n"
     ]
    }
   ],
   "source": [
    "kurtosis_function('TotalCharge')"
   ]
  },
  {
   "cell_type": "markdown",
   "id": "4b224872",
   "metadata": {},
   "source": [
    "Continuous"
   ]
  }
 ],
 "metadata": {
  "kernelspec": {
   "display_name": "Python (dojo-env)",
   "language": "python",
   "name": "dojo-env"
  },
  "language_info": {
   "codemirror_mode": {
    "name": "ipython",
    "version": 3
   },
   "file_extension": ".py",
   "mimetype": "text/x-python",
   "name": "python",
   "nbconvert_exporter": "python",
   "pygments_lexer": "ipython3",
   "version": "3.7.12"
  },
  "toc": {
   "base_numbering": 1,
   "nav_menu": {},
   "number_sections": false,
   "sideBar": true,
   "skip_h1_title": false,
   "title_cell": "Table of Contents",
   "title_sidebar": "Contents",
   "toc_cell": false,
   "toc_position": {},
   "toc_section_display": true,
   "toc_window_display": false
  }
 },
 "nbformat": 4,
 "nbformat_minor": 5
}
